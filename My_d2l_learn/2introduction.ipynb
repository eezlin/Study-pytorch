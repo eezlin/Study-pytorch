{
 "cells": [
  {
   "cell_type": "markdown",
   "source": [
    "# 运算"
   ],
   "metadata": {
    "collapsed": false
   },
   "id": "d1784d4d5cd86a5f"
  },
  {
   "cell_type": "code",
   "outputs": [],
   "source": [
    "import torch\n",
    "import numpy as np\n",
    "\n",
    "x = torch.arange(12)    # 生成一个长度为12的向量\n",
    "print(x)\n",
    "print(x.shape)\n",
    "print(x.numel())        # 返回向量的元素个数\n",
    "\n",
    "X = x.reshape(3, 4)     # 将向量x的形状改为(3, 4)\n",
    "print(X)\n",
    "\n",
    "X = x.reshape(-1, 4)    # 当某一维为-1时，会自动计算它的大小\n",
    "print(X)\n",
    "print(X[-1])\n",
    "print(X[1:3])\n",
    "X[1,2] = 9            # 修改X中的元素\n",
    "\n",
    "rand_X = torch.randn(3, 4)  # 生成一个形状为(3, 4)的tensor，tensor中的值服从均值为0，标准差为1的正态分布\n",
    "print(rand_X)\n",
    "\n",
    "a = torch.cat((X, rand_X), dim=0)   # 按行（dim=0）或按列（dim=1）拼接两个tensor\n",
    "b = torch.cat((X, rand_X), dim=1)\n",
    "print(a)\n",
    "print(b)\n",
    "\n",
    "A = X.numpy()   # 将tensor转换为numpy数组\n",
    "B = torch.tensor(A)     # 将numpy数组转换为tensor\n",
    "print(type(A), type(B))"
   ],
   "metadata": {
    "collapsed": false
   },
   "id": "initial_id",
   "execution_count": null
  },
  {
   "cell_type": "markdown",
   "source": [
    "# 数据处理"
   ],
   "metadata": {
    "collapsed": false
   },
   "id": "86445796aff05e6c"
  },
  {
   "cell_type": "code",
   "outputs": [],
   "source": [
    "import os\n",
    "\n",
    "# 创建数据集\n",
    "os.makedirs(os.path.join('..', 'data'), exist_ok=True)\n",
    "data_file = os.path.join('..', 'data', 'house_tiny.csv')\n",
    "with open(data_file, 'w') as f:\n",
    "    f.write('NumRooms,Alley,Price\\n')  # 列名\n",
    "    f.write('NA,Pave,127500\\n')  # 每行表示一个数据样本\n",
    "    f.write('2,NA,106000\\n')\n",
    "    f.write('4,NA,178100\\n')\n",
    "    f.write('NA,NA,140000\\n')\n",
    "\n",
    "# 读取数据集\n",
    "import pandas as pd\n",
    "\n",
    "data = pd.read_csv(data_file)\n",
    "print(data)\n",
    "\n",
    "inputs, outputs = data.iloc[:, 0:2], data.iloc[:, 2]\n",
    "NumRooms_mean = inputs['NumRooms'].mean()\n",
    "inputs['NumRooms'].fillna(value=NumRooms_mean, inplace=True)  # 将缺失值替换成均值\n",
    "print(inputs)\n",
    "\n",
    "inputs = pd.get_dummies(inputs, dummy_na=True, dtype=int)   # 将类别变量转换成指示特征\n",
    "print(inputs)\n",
    "\n",
    "# 转换为张量格式\n",
    "import torch\n",
    "\n",
    "X, y = torch.tensor(inputs.values), torch.tensor(outputs.values)\n",
    "print(X, y)\n",
    "\n",
    "A = torch.arange(20).reshape(5, 4)\n",
    "B = A.clone()\n",
    "Hadamard = A * B    # 逐元素乘法 Hadamard product 圈乘\n",
    "print(Hadamard)\n",
    "a = 2\n",
    "print(a * A)    # 乘以标量\n",
    "print(a * A)    # 乘以标量\n",
    "print(A)\n",
    "print(A.shape)\n",
    "print(A.sum(axis = 0),A.sum(axis = 0).shape)  # 按行求和\n",
    "print(A.sum(axis = 1),A.sum(axis = 1).shape)  # 按列求和"
   ],
   "metadata": {
    "collapsed": false,
    "is_executing": true
   },
   "id": "7e6f6f7d8dc6d1ed"
  },
  {
   "cell_type": "markdown",
   "source": [
    "# 自动求导"
   ],
   "metadata": {
    "collapsed": false
   },
   "id": "c110a9517f1fa77e"
  },
  {
   "cell_type": "code",
   "outputs": [],
   "source": [
    "import torch\n",
    "\n",
    "x = torch.arange(4.0)\n",
    "print(x)\n",
    "x = x.requires_grad_(True)\n",
    "print(x.grad)  # 默认为None\n",
    "\n",
    "y = 2 * torch.dot(x, x)\n",
    "print(y)\n",
    "\n",
    "y.backward()\n",
    "print(x.grad)  # dy/dx = 4x\n",
    "\n",
    "x.grad.zero_()  # 梯度清零\n",
    "y = x.sum()\n",
    "y.backward()\n",
    "print(x.grad)  # dy/dx = 1\n",
    "\n",
    "x.grad.zero_()\n",
    "y = x * x\n",
    "y.sum().backward()\n",
    "print(x.grad)  # dy/dx = 2x"
   ],
   "metadata": {
    "collapsed": false
   },
   "id": "971205dd8b83ae07"
  }
 ],
 "metadata": {
  "kernelspec": {
   "display_name": "Python 3",
   "language": "python",
   "name": "python3"
  },
  "language_info": {
   "codemirror_mode": {
    "name": "ipython",
    "version": 2
   },
   "file_extension": ".py",
   "mimetype": "text/x-python",
   "name": "python",
   "nbconvert_exporter": "python",
   "pygments_lexer": "ipython2",
   "version": "2.7.6"
  }
 },
 "nbformat": 4,
 "nbformat_minor": 5
}

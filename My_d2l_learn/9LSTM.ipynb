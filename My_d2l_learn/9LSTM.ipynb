{
 "cells": [
  {
   "cell_type": "code",
   "outputs": [],
   "source": [
    "import pandas as pd\n",
    "import torch\n",
    "import torch.nn as nn\n",
    "from torch.utils.data import DataLoader, TensorDataset\n"
   ],
   "metadata": {
    "collapsed": false
   },
   "id": "372cd3552da710bd"
  },
  {
   "cell_type": "code",
   "outputs": [],
   "source": [
    "# 读取时间序列数据\n",
    "data = pd.read_csv('time.csv')\n",
    "\n",
    "# 假设你的数据有一个特征列，列名为 'value'，表示时间序列的值\n",
    "time_series = data['value'].values\n",
    "\n",
    "# 将时间序列数据转换为PyTorch张量\n",
    "time_series_tensor = torch.tensor(time_series, dtype=torch.float32)\n",
    "\n",
    "# 定义窗口大小（即每个输入序列的长度）\n",
    "window_size = 10\n",
    "\n",
    "# 构建输入和目标序列\n",
    "inputs = []\n",
    "targets = []\n",
    "\n",
    "for i in range(len(time_series) - window_size):\n",
    "    inputs.append(time_series_tensor[i:i+window_size])\n",
    "    targets.append(time_series_tensor[i+window_size])\n",
    "\n",
    "# 将输入和目标序列转换为PyTorch张量\n",
    "inputs = torch.stack(inputs)\n",
    "targets = torch.stack(targets)\n",
    "\n",
    "# 创建数据集和数据加载器\n",
    "dataset = TensorDataset(inputs, targets)\n",
    "batch_size = 64\n",
    "dataloader = DataLoader(dataset, batch_size=batch_size, shuffle=True)\n"
   ],
   "metadata": {
    "collapsed": true
   },
   "id": "initial_id",
   "execution_count": 0
  },
  {
   "cell_type": "code",
   "outputs": [],
   "source": [
    "class LSTMModel(nn.Module):\n",
    "    def __init__(self, input_size, hidden_size, num_layers, output_size):\n",
    "        super(LSTMModel, self).__init__()\n",
    "        self.hidden_size = hidden_size\n",
    "        self.num_layers = num_layers\n",
    "        self.lstm = nn.LSTM(input_size, hidden_size, num_layers, batch_first=True)\n",
    "        self.fc = nn.Linear(hidden_size, output_size)\n",
    "\n",
    "    def forward(self, x):\n",
    "        h0 = torch.zeros(self.num_layers, x.size(0), self.hidden_size).to(x.device)\n",
    "        c0 = torch.zeros(self.num_layers, x.size(0), self.hidden_size).to(x.device)\n",
    "        \n",
    "        out, _ = self.lstm(x, (h0, c0))\n",
    "        \n",
    "        # 取最后一个时间步的输出作为模型输出\n",
    "        out = self.fc(out[:, -1, :])\n",
    "        return out\n",
    "\n",
    "# 假设输入时间序列的维度为1，输出维度也为1\n",
    "input_size = 1\n",
    "output_size = 1\n",
    "hidden_size = 32\n",
    "num_layers = 2\n",
    "\n",
    "# 创建LSTM模型\n",
    "model = LSTMModel(input_size, hidden_size, num_layers, output_size)\n",
    "\n",
    "# 定义损失函数和优化器\n",
    "criterion = nn.MSELoss()\n",
    "optimizer = torch.optim.Adam(model.parameters(), lr=0.001)\n"
   ],
   "metadata": {
    "collapsed": false
   },
   "id": "74d5b52d1b1ac78"
  },
  {
   "cell_type": "code",
   "outputs": [],
   "source": [
    "# 初始化模型\n",
    "input_size = 1\n",
    "output_size = 1\n",
    "hidden_size = 32\n",
    "num_layers = 2\n",
    "\n",
    "model = LSTMModel(input_size, hidden_size, num_layers, output_size)\n",
    "\n",
    "# 定义损失函数和优化器\n",
    "criterion = nn.MSELoss()\n",
    "optimizer = torch.optim.Adam(model.parameters(), lr=0.001)\n",
    "\n",
    "# 准备数据加载器\n",
    "dataset = TensorDataset(inputs, targets)\n",
    "batch_size = 64\n",
    "dataloader = DataLoader(dataset, batch_size=batch_size, shuffle=True)\n",
    "\n",
    "# 训练模型\n",
    "num_epochs = 100\n",
    "for epoch in range(num_epochs):\n",
    "    for batch_inputs, batch_targets in dataloader:\n",
    "        # 前向传播\n",
    "        outputs = model(batch_inputs)\n",
    "        loss = criterion(outputs, batch_targets)\n",
    "        \n",
    "        # 反向传播和优化\n",
    "        optimizer.zero_grad()\n",
    "        loss.backward()\n",
    "        optimizer.step()\n",
    "    \n",
    "    # 每个epoch结束后打印损失\n",
    "    print(f'Epoch [{epoch+1}/{num_epochs}], Loss: {loss.item():.4f}')\n",
    "\n",
    "# 预测未来的值\n",
    "future = 30\n",
    "preds = []\n",
    "model.eval()\n",
    "with torch.no_grad():\n",
    "    last_seq = inputs[-1].unsqueeze(0)  # 取最后一个输入序列\n",
    "    for _ in range(future):\n",
    "        pred = model(last_seq)\n",
    "        preds.append(pred.item())\n",
    "        last_seq = torch.cat([last_seq[:, 1:], pred.unsqueeze(1)], axis=1)\n",
    "\n",
    "# 打印预测结果\n",
    "print(\"Predictions for the next\", future, \"time steps:\")\n",
    "print(preds)"
   ],
   "metadata": {
    "collapsed": false
   },
   "id": "d2954b449ab6f3f2"
  }
 ],
 "metadata": {
  "kernelspec": {
   "display_name": "Python 3",
   "language": "python",
   "name": "python3"
  },
  "language_info": {
   "codemirror_mode": {
    "name": "ipython",
    "version": 2
   },
   "file_extension": ".py",
   "mimetype": "text/x-python",
   "name": "python",
   "nbconvert_exporter": "python",
   "pygments_lexer": "ipython2",
   "version": "2.7.6"
  }
 },
 "nbformat": 4,
 "nbformat_minor": 5
}
